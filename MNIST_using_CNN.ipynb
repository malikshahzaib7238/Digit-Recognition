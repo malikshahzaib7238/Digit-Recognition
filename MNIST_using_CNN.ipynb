{
  "nbformat": 4,
  "nbformat_minor": 0,
  "metadata": {
    "colab": {
      "provenance": [],
      "authorship_tag": "ABX9TyOJLjytjCv2Lpgkn+BmVPlU",
      "include_colab_link": true
    },
    "kernelspec": {
      "name": "python3",
      "display_name": "Python 3"
    },
    "language_info": {
      "name": "python"
    },
    "accelerator": "TPU"
  },
  "cells": [
    {
      "cell_type": "markdown",
      "metadata": {
        "id": "view-in-github",
        "colab_type": "text"
      },
      "source": [
        "<a href=\"https://colab.research.google.com/github/malikshahzaib7238/Digit-Recognition/blob/main/MNIST_using_CNN.ipynb\" target=\"_parent\"><img src=\"https://colab.research.google.com/assets/colab-badge.svg\" alt=\"Open In Colab\"/></a>"
      ]
    },
    {
      "cell_type": "code",
      "execution_count": null,
      "metadata": {
        "id": "l798yBj3OSyf"
      },
      "outputs": [],
      "source": [
        "from keras.datasets import mnist\n",
        "import numpy as np"
      ]
    },
    {
      "cell_type": "code",
      "source": [
        "(xtrain,ytrain),(xtest,ytest)=mnist.load_data()"
      ],
      "metadata": {
        "id": "FgZd6AUXObLq",
        "colab": {
          "base_uri": "https://localhost:8080/"
        },
        "outputId": "4dbaa708-5671-4f97-d41d-5e79cb1ea3b4"
      },
      "execution_count": null,
      "outputs": [
        {
          "output_type": "stream",
          "name": "stdout",
          "text": [
            "Downloading data from https://storage.googleapis.com/tensorflow/tf-keras-datasets/mnist.npz\n",
            "11490434/11490434 [==============================] - 0s 0us/step\n"
          ]
        }
      ]
    },
    {
      "cell_type": "code",
      "source": [
        "import matplotlib.pyplot as plt\n",
        "print(\"Training data:\")\n",
        "plt.imshow(xtrain[6])\n",
        "plt.show()\n",
        "print(\"Label of this image is\",ytrain[6])"
      ],
      "metadata": {
        "colab": {
          "base_uri": "https://localhost:8080/",
          "height": 465
        },
        "id": "uPX7ZLCHUzs8",
        "outputId": "88cbb16e-4818-4656-c4ab-8990daa12e61"
      },
      "execution_count": null,
      "outputs": [
        {
          "output_type": "stream",
          "name": "stdout",
          "text": [
            "Training data:\n"
          ]
        },
        {
          "output_type": "display_data",
          "data": {
            "text/plain": [
              "<Figure size 640x480 with 1 Axes>"
            ],
            "image/png": "[encoded data removed]"
          },
          "metadata": {}
        },
        {
          "output_type": "stream",
          "name": "stdout",
          "text": [
            "Label of this image is 1\n"
          ]
        }
      ]
    },
    {
      "cell_type": "code",
      "source": [
        "xtrain=np.reshape(xtrain,(-1,28,28,1))\n",
        "xtest=np.reshape(xtest,(-1,28,28,1))\n",
        "xtrain.shape,xtest.shape,ytrain.shape,ytest.shape"
      ],
      "metadata": {
        "colab": {
          "base_uri": "https://localhost:8080/"
        },
        "id": "3RoWUYktSs0L",
        "outputId": "cb5577bf-80ae-4686-ff95-34c065e43c7a"
      },
      "execution_count": null,
      "outputs": [
        {
          "output_type": "execute_result",
          "data": {
            "text/plain": [
              "((60000, 28, 28, 1), (10000, 28, 28, 1), (60000,), (10000,))"
            ]
          },
          "metadata": {},
          "execution_count": 5
        }
      ]
    },
    {
      "cell_type": "code",
      "source": [
        "xtrain=xtrain/255\n",
        "xtest=xtest/255"
      ],
      "metadata": {
        "id": "f8E3H1krStKK"
      },
      "execution_count": null,
      "outputs": []
    },
    {
      "cell_type": "code",
      "source": [
        "from keras.utils.np_utils import to_categorical\n",
        "y_train = to_categorical(ytrain, num_classes=10)\n",
        "y_test = to_categorical(ytest, num_classes=10)"
      ],
      "metadata": {
        "id": "7ZBWLdhxVjYV"
      },
      "execution_count": null,
      "outputs": []
    },
    {
      "cell_type": "code",
      "source": [
        "\n",
        "from keras.models import Sequential"
      ],
      "metadata": {
        "id": "h71ZF92pVlCW"
      },
      "execution_count": null,
      "outputs": []
    },
    {
      "cell_type": "code",
      "source": [
        "model=Sequential()"
      ],
      "metadata": {
        "id": "KhGaZadUVmm_"
      },
      "execution_count": null,
      "outputs": []
    },
    {
      "cell_type": "code",
      "source": [
        "from keras.layers import Conv2D,MaxPooling2D,Flatten,Dense,Dropout"
      ],
      "metadata": {
        "id": "8V5DvcNZVn8L"
      },
      "execution_count": null,
      "outputs": []
    },
    {
      "cell_type": "code",
      "source": [
        "model.add(Conv2D(32,kernel_size=5,strides=1,padding=\"Same\",activation=\"relu\",input_shape=(28,28,1)))\n",
        "model.add(MaxPooling2D(padding=\"same\"))\n",
        "model.add(Conv2D(64,kernel_size=5,strides=1,padding=\"same\",activation=\"relu\"))\n",
        "model.add(MaxPooling2D(padding=\"same\"))\n",
        "model.add(Flatten())\n",
        "model.add(Dense(1024,activation=\"relu\"))\n",
        "model.add(Dropout(0.2))\n",
        "model.add(Dense(10,activation=\"sigmoid\"))"
      ],
      "metadata": {
        "id": "LWPD19FNVpcI"
      },
      "execution_count": null,
      "outputs": []
    },
    {
      "cell_type": "code",
      "source": [
        "model.compile(optimizer=\"adam\",loss=\"categorical_crossentropy\",metrics=[\"accuracy\"])"
      ],
      "metadata": {
        "id": "n_fONuwvVq3T"
      },
      "execution_count": null,
      "outputs": []
    },
    {
      "cell_type": "code",
      "source": [
        "import tensorflow as tf\n",
        "from tensorflow.keras.callbacks import ModelCheckpoint\n",
        "\n",
        "\n",
        "# Define the ModelCheckpoint callback\n",
        "checkpoint_path = \"best_model.h5\"\n",
        "checkpoint_callback = ModelCheckpoint(\n",
        "    filepath=checkpoint_path,\n",
        "    monitor='accuracy',    # Choose the metric to monitor for finding the best model\n",
        "    save_best_only=True,   # Save only the best model during training\n",
        "    save_weights_only=False,\n",
        "    verbose=1\n",
        ")\n"
      ],
      "metadata": {
        "id": "p16pqJgOcF8T"
      },
      "execution_count": null,
      "outputs": []
    },
    {
      "cell_type": "code",
      "source": [
        "model.fit(xtrain,y_train,batch_size=100,epochs=5,validation_data=(xtest,y_test),  callbacks=[checkpoint_callback])"
      ],
      "metadata": {
        "colab": {
          "base_uri": "https://localhost:8080/"
        },
        "id": "zMVYHgw3Vs3i",
        "outputId": "83928399-7a42-4e37-e6ad-f976900c44d3"
      },
      "execution_count": null,
      "outputs": [
        {
          "output_type": "stream",
          "name": "stdout",
          "text": [
            "Epoch 1/5\n",
            "600/600 [==============================] - ETA: 0s - loss: 0.1259 - accuracy: 0.9611\n",
            "Epoch 1: accuracy improved from -inf to 0.96112, saving model to best_model.h5\n",
            "600/600 [==============================] - 252s 418ms/step - loss: 0.1259 - accuracy: 0.9611 - val_loss: 0.0345 - val_accuracy: 0.9880\n",
            "Epoch 2/5\n",
            "600/600 [==============================] - ETA: 0s - loss: 0.0367 - accuracy: 0.9886\n",
            "Epoch 2: accuracy improved from 0.96112 to 0.98863, saving model to best_model.h5\n",
            "600/600 [==============================] - 244s 407ms/step - loss: 0.0367 - accuracy: 0.9886 - val_loss: 0.0280 - val_accuracy: 0.9903\n",
            "Epoch 3/5\n",
            "600/600 [==============================] - ETA: 0s - loss: 0.0264 - accuracy: 0.9915\n",
            "Epoch 3: accuracy improved from 0.98863 to 0.99152, saving model to best_model.h5\n",
            "600/600 [==============================] - 242s 404ms/step - loss: 0.0264 - accuracy: 0.9915 - val_loss: 0.0297 - val_accuracy: 0.9891\n",
            "Epoch 4/5\n",
            "600/600 [==============================] - ETA: 0s - loss: 0.0177 - accuracy: 0.9945\n",
            "Epoch 4: accuracy improved from 0.99152 to 0.99448, saving model to best_model.h5\n",
            "600/600 [==============================] - 241s 402ms/step - loss: 0.0177 - accuracy: 0.9945 - val_loss: 0.0284 - val_accuracy: 0.9913\n",
            "Epoch 5/5\n",
            "600/600 [==============================] - ETA: 0s - loss: 0.0158 - accuracy: 0.9949\n",
            "Epoch 5: accuracy improved from 0.99448 to 0.99492, saving model to best_model.h5\n",
            "600/600 [==============================] - 243s 405ms/step - loss: 0.0158 - accuracy: 0.9949 - val_loss: 0.0335 - val_accuracy: 0.9889\n"
          ]
        },
        {
          "output_type": "execute_result",
          "data": {
            "text/plain": [
              "<keras.callbacks.History at 0x7f21e2c41720>"
            ]
          },
          "metadata": {},
          "execution_count": 16
        }
      ]
    },
    {
      "cell_type": "code",
      "source": [
        "model.evaluate(xtrain,y_train),model.evaluate(xtest,y_test)"
      ],
      "metadata": {
        "colab": {
          "base_uri": "https://localhost:8080/"
        },
        "id": "D42lndQ_VunU",
        "outputId": "b447f5e0-ec7a-47fb-9a15-b974cb583c71"
      },
      "execution_count": null,
      "outputs": [
        {
          "output_type": "stream",
          "name": "stdout",
          "text": [
            "1875/1875 [==============================] - 68s 36ms/step - loss: 0.0156 - accuracy: 0.9954\n",
            "313/313 [==============================] - 10s 32ms/step - loss: 0.0335 - accuracy: 0.9889\n"
          ]
        },
        {
          "output_type": "execute_result",
          "data": {
            "text/plain": [
              "([0.01561794150620699, 0.9954000115394592],\n",
              " [0.033466897904872894, 0.9889000058174133])"
            ]
          },
          "metadata": {},
          "execution_count": 17
        }
      ]
    },
    {
      "cell_type": "code",
      "source": [
        "import tensorflow as tf\n",
        "import numpy as np\n",
        "from PIL import Image\n",
        "i = 11 #change this value to check different images\n",
        "custom_image = np.array(xtest[i])\n",
        "custom_image = custom_image.reshape(-1,28,28,1)  # Reshape the image to match the model's input shape\n",
        "\n",
        "predictions = model.predict(custom_image)\n",
        "predicted_label = np.argmax(predictions)\n",
        "plt.imshow(xtest[i])\n",
        "plt.show()\n",
        "print(f\"Predicted label: {predicted_label}\")\n",
        "true_label = np.argmax(y_test[i])\n",
        "print(f\"True label: {true_label}\")\n"
      ],
      "metadata": {
        "colab": {
          "base_uri": "https://localhost:8080/",
          "height": 482
        },
        "id": "m8EeLKvkamip",
        "outputId": "8cedbab1-dd57-49ee-f19e-6aaba97ebc96"
      },
      "execution_count": null,
      "outputs": [
        {
          "output_type": "stream",
          "name": "stdout",
          "text": [
            "1/1 [==============================] - 0s 25ms/step\n"
          ]
        },
        {
          "output_type": "display_data",
          "data": {
            "text/plain": [
              "<Figure size 640x480 with 1 Axes>"
            ],
            "image/png": "[encoded data removed]"
          },
          "metadata": {}
        },
        {
          "output_type": "stream",
          "name": "stdout",
          "text": [
            "Predicted label: 6\n",
            "True label: 6\n"
          ]
        }
      ]
    },
    {
      "cell_type": "code",
      "source": [],
      "metadata": {
        "id": "J2TBAmDujQe6"
      },
      "execution_count": null,
      "outputs": []
    }
  ]
}